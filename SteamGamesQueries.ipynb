{
  "nbformat": 4,
  "nbformat_minor": 0,
  "metadata": {
    "colab": {
      "provenance": [],
      "collapsed_sections": [
        "AP75iZ_1ZMyo",
        "LzbyoJc-Y4BO",
        "r37mPyQIYuiu"
      ],
      "authorship_tag": "ABX9TyOpe/sRely2NGwrER2eHz0M"
    },
    "kernelspec": {
      "name": "python3",
      "display_name": "Python 3"
    },
    "language_info": {
      "name": "python"
    }
  },
  "cells": [
    {
      "cell_type": "markdown",
      "source": [
        "### Introduction\n",
        "\n",
        "This is a notebook where I performed exploratory analysis and narrowed key insights to include in my Tableau dashboard.\n",
        "\n",
        "The dataset used can be found [here](https://www.kaggle.com/datasets/nikdavis/steam-store-games). It is a dataset of all video games list on Steam as of May 2019. The information complete and fit for analysis (important step because not all Kaggle datasets are)."
      ],
      "metadata": {
        "id": "SqyQ5ygu4Pun"
      }
    },
    {
      "cell_type": "markdown",
      "source": [
        "### Set up \n",
        "\n",
        "Loading the necessary packages"
      ],
      "metadata": {
        "id": "AP75iZ_1ZMyo"
      }
    },
    {
      "cell_type": "code",
      "source": [
        "!pip install google-auth google-auth-oauthlib google-auth-httplib2"
      ],
      "metadata": {
        "id": "ar2u6nIYu_Nr"
      },
      "execution_count": null,
      "outputs": []
    },
    {
      "cell_type": "code",
      "source": [
        "import pandas as pd\n",
        "from google.cloud import bigquery\n",
        "from google.colab import auth\n",
        "from google.colab import data_table\n",
        "from google.colab import drive\n",
        "import os"
      ],
      "metadata": {
        "id": "eUATvpLI6MVm"
      },
      "execution_count": null,
      "outputs": []
    },
    {
      "cell_type": "markdown",
      "source": [
        "Providing authentication to access data stored in Big Query"
      ],
      "metadata": {
        "id": "NF903jcG6R6V"
      }
    },
    {
      "cell_type": "code",
      "execution_count": null,
      "metadata": {
        "id": "rSyxZtJlm5Fq"
      },
      "outputs": [],
      "source": [
        "project = 'steam-data-analysis-382023'\n",
        "location = 'US'\n",
        "client = bigquery.Client(project=project, location=location)\n",
        "data_table.enable_dataframe_formatter()\n",
        "auth.authenticate_user()"
      ]
    },
    {
      "cell_type": "markdown",
      "source": [
        "### Example query and execution"
      ],
      "metadata": {
        "id": "1Pwigh0ahQAg"
      }
    },
    {
      "cell_type": "markdown",
      "source": [
        "This is sample code that can be used to write then run queries."
      ],
      "metadata": {
        "id": "AaEgk00n6b_X"
      }
    },
    {
      "cell_type": "code",
      "source": [
        "query = '''\n",
        "        SELECT genre, COUNT(*) AS gamecount, AVG(price) AS priceavg\n",
        "        FROM `steam-data-analysis-382023.steam.videogames`, UNNEST(SPLIT(genres, ';')) AS genre\n",
        "        GROUP BY genre\n",
        "        ORDER BY gamecount DESC\n",
        "        '''\n",
        "\n",
        "df = client.query(query).to_dataframe()"
      ],
      "metadata": {
        "id": "1P9HwQDEhTsG"
      },
      "execution_count": null,
      "outputs": []
    },
    {
      "cell_type": "code",
      "source": [
        "df"
      ],
      "metadata": {
        "id": "hWx2_SnqmDEW"
      },
      "execution_count": null,
      "outputs": []
    },
    {
      "cell_type": "markdown",
      "source": [
        "### Queries for exploratory data analysis"
      ],
      "metadata": {
        "id": "LzbyoJc-Y4BO"
      }
    },
    {
      "cell_type": "code",
      "source": [
        "# number of developers \n",
        "'''\n",
        "SELECT COUNT(DISTINCT developer)\n",
        "FROM `steam-data-analysis-382023.steam.videogames`, UNNEST(SPLIT(genres, ';')) AS genre\n",
        "'''\n",
        "\n",
        "# number of games and average price by genre\n",
        "'''\n",
        "SELECT genre, COUNT(*) AS gamecount, AVG(price) AS priceavg\n",
        "FROM `steam-data-analysis-382023.steam.videogames`, UNNEST(SPLIT(genres, ';')) AS genre\n",
        "GROUP BY genre\n",
        "ORDER BY gamecount DESC\n",
        "'''\n",
        "\n",
        "# games by owners group\n",
        "'''\n",
        "SELECT owners, count(*) AS gamecount\n",
        "FROM `steam-data-analysis-382023.steam.videogames`\n",
        "GROUP BY owners\n",
        "'''\n",
        "\n",
        "# number of games by release year\n",
        "'''\n",
        "SELECT EXTRACT(YEAR FROM release_date) AS year, COUNT(*) AS num_games\n",
        "FROM `steam-data-analysis-382023.steam.videogames`\n",
        "GROUP BY year\n",
        "ORDER BY year DESC\n",
        "'''\n",
        "\n",
        "# number games and postitive ratings by developers \n",
        "'''\n",
        "SELECT developer, COUNT(*) AS gamecount, SUM(positive_ratings) AS positives\n",
        "FROM `steam-data-analysis-382023.steam.videogames`\n",
        "GROUP BY developer\n",
        "ORDER BY gamecount DESC\n",
        "'''\n",
        "\n",
        "# games ordered by percentage of positive ratings\n",
        "'''\n",
        "SELECT name, positive_ratings/(positive_ratings+negative_ratings) AS ratio\n",
        "FROM `steam-data-analysis-382023.steam.videogames`\n",
        "ORDER BY ratio DESC\n",
        "LIMIT 10\n",
        "'''\n",
        "\n",
        "# almost 20% of games are multiplayer\n",
        "'''\n",
        "SELECT LOWER(categories) LIKE '%multi-player%' AS multiplayer, COUNT(*) AS gamecount\n",
        "FROM `steam-data-analysis-382023.steam.videogames`\n",
        "GROUP BY multiplayer\n",
        "'''\n",
        "\n",
        "# average playtimes and prices by genre\n",
        "'''\n",
        "SELECT genre, COUNT(*) AS gamecount, AVG(average_playtime) AS playtimemed, AVG(price) AS priceavg\n",
        "FROM `steam-data-analysis-382023.steam.videogames`, UNNEST(SPLIT(genres, ';')) AS genre\n",
        "GROUP BY genre\n",
        "ORDER BY playtimemed DESC\n",
        "'''"
      ],
      "metadata": {
        "id": "pSI-XvHR5taP",
        "colab": {
          "base_uri": "https://localhost:8080/",
          "height": 52
        },
        "outputId": "75db4c53-d2a9-416a-a483-09e036c0d338"
      },
      "execution_count": null,
      "outputs": [
        {
          "output_type": "execute_result",
          "data": {
            "text/plain": [
              "\"\\nSELECT *\\nFROM `steam-data-analysis-382023.steam.videogames` v \\nLEFT JOIN (\\n  SELECT steam_appid, REGEXP_REPLACE(about_the_game, '<[^>]+>', '') AS cleaned_description\\n  FROM `steam-data-analysis-382023.steam.descriptions`\\n) d \\nON v.appid = d.steam_appid\\n\""
            ],
            "application/vnd.google.colaboratory.intrinsic+json": {
              "type": "string"
            }
          },
          "metadata": {},
          "execution_count": 3
        }
      ]
    },
    {
      "cell_type": "markdown",
      "source": [
        "### Queries for key insights that I want to highlight in the dashboard"
      ],
      "metadata": {
        "id": "r37mPyQIYuiu"
      }
    },
    {
      "cell_type": "code",
      "source": [
        "# Most of the top reviewed games are under the action genre\n",
        "'''\n",
        "SELECT name, developer, positive_ratings, negative_ratings, positive_ratings+negative_ratings AS ratings, LOWER(genres) LIKE '%action%' AS action\n",
        "FROM `steam-data-analysis-382023.steam.videogames`\n",
        "ORDER BY ratings DESC\n",
        "LIMIT 10\n",
        "'''\n",
        "\n",
        "# multiplayer games have triple the average playtimes\n",
        "'''\n",
        "SELECT LOWER(categories) LIKE '%multi-player%' AS multiplayer, AVG(average_playtime) AS median_playtime\n",
        "FROM `steam-data-analysis-382023.steam.videogames`\n",
        "GROUP BY multiplayer\n",
        "'''\n",
        "\n",
        "# less than 20 percent of games are over $10\n",
        "'''\n",
        "SELECT\n",
        "  CASE\n",
        "    WHEN price = 0 THEN 'Free'\n",
        "    WHEN price > 0 AND price < 10 THEN 'Under $10'\n",
        "    ELSE 'Over $10'\n",
        "  END AS pricegroup,\n",
        "  COUNT(*) AS gamecount\n",
        "FROM `steam-data-analysis-382023.steam.videogames`\n",
        "GROUP BY pricegroup\n",
        "'''\n",
        "\n",
        "# among top publishers, valve have the lowest prices but highest playtimes\n",
        "'''\n",
        "SELECT publisher, COUNT(*) AS gamecount, AVG(average_playtime) AS playtimeavg, AVG(price) AS priceavg\n",
        "FROM `steam-data-analysis-382023.steam.videogames`, UNNEST(SPLIT(publisher, ';')) AS publisher\n",
        "WHERE publisher IN ('Valve','Ubisoft','Bethesda Softworks','Square Enix','2K','CD PROJEKT RED','BANDAI NAMCO Entertainment','Rockstar Games','SEGA','Activision')\n",
        "GROUP BY publisher\n",
        "ORDER BY playtimeavg DESC\n",
        "'''"
      ],
      "metadata": {
        "id": "jwwnEf9xZuEI"
      },
      "execution_count": null,
      "outputs": []
    },
    {
      "cell_type": "markdown",
      "source": [
        "### Code to read queries and convert results to pandas dataframe"
      ],
      "metadata": {
        "id": "9db5Vv0bY9Wa"
      }
    },
    {
      "cell_type": "markdown",
      "source": [
        "Store queries in variables"
      ],
      "metadata": {
        "id": "U-OApsXm69Rv"
      }
    },
    {
      "cell_type": "code",
      "source": [
        "query_1 = '''\n",
        "          SELECT name, developer, positive_ratings, negative_ratings, positive_ratings+negative_ratings AS ratings, LOWER(genres) LIKE '%action%' AS action\n",
        "          FROM `steam-data-analysis-382023.steam.videogames`\n",
        "          ORDER BY ratings DESC\n",
        "          LIMIT 10\n",
        "          '''\n",
        "\n",
        "query_2 = '''\n",
        "          SELECT\n",
        "            CASE\n",
        "              WHEN price = 0 THEN 'Free'\n",
        "              WHEN price > 0 AND price < 10 THEN 'Under $10'\n",
        "              ELSE 'Over $10'\n",
        "            END AS pricegroup,\n",
        "            COUNT(*) AS gamecount\n",
        "          FROM `steam-data-analysis-382023.steam.videogames`\n",
        "          GROUP BY pricegroup\n",
        "          '''\n",
        "\n",
        "query_3 = '''\n",
        "          SELECT LOWER(categories) LIKE '%multi-player%' AS multiplayer, AVG(average_playtime) AS median_playtime\n",
        "          FROM `steam-data-analysis-382023.steam.videogames`\n",
        "          GROUP BY multiplayer\n",
        "          '''\n",
        "\n",
        "query_4 = '''\n",
        "          SELECT publisher, COUNT(*) AS gamecount, AVG(average_playtime) AS playtimeavg, AVG(price) AS priceavg\n",
        "          FROM `steam-data-analysis-382023.steam.videogames`, UNNEST(SPLIT(publisher, ';')) AS publisher\n",
        "          WHERE publisher IN ('Valve','Ubisoft','Bethesda Softworks','Square Enix','2K','CD PROJEKT RED','BANDAI NAMCO Entertainment','Rockstar Games','SEGA','Activision')\n",
        "          GROUP BY publisher\n",
        "          ORDER BY playtimeavg DESC\n",
        "          '''\n",
        "\n",
        "query_5 = '''\n",
        "          SELECT *\n",
        "          FROM `steam-data-analysis-382023.steam.videogames` v \n",
        "          LEFT JOIN (\n",
        "            SELECT steam_appid, REGEXP_REPLACE(about_the_game, '<[^>]+>', '') AS cleaned_description\n",
        "            FROM `steam-data-analysis-382023.steam.descriptions`\n",
        "          ) d \n",
        "          ON v.appid = d.steam_appid\n",
        "          '''"
      ],
      "metadata": {
        "id": "Mtyf5choubHV"
      },
      "execution_count": null,
      "outputs": []
    },
    {
      "cell_type": "markdown",
      "source": [
        "Run each query and store result dataframes in variables"
      ],
      "metadata": {
        "id": "_wRCRM7L7AXP"
      }
    },
    {
      "cell_type": "code",
      "source": [
        "steam_games = client.query(query_1).to_dataframe()\n",
        "steam_prices = client.query(query_2).to_dataframe()\n",
        "steam_multiplayer = client.query(query_3).to_dataframe()\n",
        "steam_publisher = client.query(query_4).to_dataframe()\n",
        "steam_all = client.query(query_5).to_dataframe()"
      ],
      "metadata": {
        "id": "kd9Cmwz3VDf5"
      },
      "execution_count": null,
      "outputs": []
    },
    {
      "cell_type": "markdown",
      "source": [
        "A function to loop through each dataframe and write them to Google Drive"
      ],
      "metadata": {
        "id": "hhs70W2j7EjY"
      }
    },
    {
      "cell_type": "code",
      "source": [
        "def toDrive(df_list):\n",
        "    drive.mount('/drive')\n",
        "    for i, df in enumerate(df_list):\n",
        "        filename = f'dataframe_{i}.csv'\n",
        "        filepath = os.path.join('/drive/My Drive/DataProjects/SteamDashboard', filename)\n",
        "        df.to_csv(filepath)"
      ],
      "metadata": {
        "id": "e4Eos6BfnKWy"
      },
      "execution_count": null,
      "outputs": []
    },
    {
      "cell_type": "code",
      "source": [
        "toDrive([steam_games,steam_prices,steam_multiplayer,steam_publisher,steam_all])"
      ],
      "metadata": {
        "colab": {
          "base_uri": "https://localhost:8080/"
        },
        "id": "fOnfEmZPnuQd",
        "outputId": "3ca67388-5c9d-44d4-88a4-cc48d79e6cce"
      },
      "execution_count": null,
      "outputs": [
        {
          "output_type": "stream",
          "name": "stdout",
          "text": [
            "Drive already mounted at /drive; to attempt to forcibly remount, call drive.mount(\"/drive\", force_remount=True).\n"
          ]
        }
      ]
    }
  ]
}